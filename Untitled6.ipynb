{
 "cells": [
  {
   "cell_type": "code",
   "execution_count": 2,
   "id": "2b9cad29-a28a-4891-9efb-029dde312744",
   "metadata": {},
   "outputs": [
    {
     "name": "stdout",
     "output_type": "stream",
     "text": [
      "Cleaned dataset saved to: cleaned_customer_support_tickets.csv\n"
     ]
    },
    {
     "name": "stderr",
     "output_type": "stream",
     "text": [
      "C:\\Users\\Sudip\\AppData\\Local\\Temp\\ipykernel_7144\\826337638.py:21: FutureWarning: A value is trying to be set on a copy of a DataFrame or Series through chained assignment using an inplace method.\n",
      "The behavior will change in pandas 3.0. This inplace method will never work because the intermediate object on which we are setting values always behaves as a copy.\n",
      "\n",
      "For example, when doing 'df[col].method(value, inplace=True)', try using 'df.method({col: value}, inplace=True)' or df[col] = df[col].method(value) instead, to perform the operation inplace on the original object.\n",
      "\n",
      "\n",
      "  df['Response Delay (hrs)'].fillna(df['Response Delay (hrs)'].median(), inplace=True)\n",
      "C:\\Users\\Sudip\\AppData\\Local\\Temp\\ipykernel_7144\\826337638.py:22: FutureWarning: A value is trying to be set on a copy of a DataFrame or Series through chained assignment using an inplace method.\n",
      "The behavior will change in pandas 3.0. This inplace method will never work because the intermediate object on which we are setting values always behaves as a copy.\n",
      "\n",
      "For example, when doing 'df[col].method(value, inplace=True)', try using 'df.method({col: value}, inplace=True)' or df[col] = df[col].method(value) instead, to perform the operation inplace on the original object.\n",
      "\n",
      "\n",
      "  df['Resolution Time (hrs)'].fillna(df['Resolution Time (hrs)'].median(), inplace=True)\n",
      "C:\\Users\\Sudip\\AppData\\Local\\Temp\\ipykernel_7144\\826337638.py:25: FutureWarning: A value is trying to be set on a copy of a DataFrame or Series through chained assignment using an inplace method.\n",
      "The behavior will change in pandas 3.0. This inplace method will never work because the intermediate object on which we are setting values always behaves as a copy.\n",
      "\n",
      "For example, when doing 'df[col].method(value, inplace=True)', try using 'df.method({col: value}, inplace=True)' or df[col] = df[col].method(value) instead, to perform the operation inplace on the original object.\n",
      "\n",
      "\n",
      "  df['Resolution'].fillna(\"Unresolved\", inplace=True)\n",
      "C:\\Users\\Sudip\\AppData\\Local\\Temp\\ipykernel_7144\\826337638.py:28: FutureWarning: A value is trying to be set on a copy of a DataFrame or Series through chained assignment using an inplace method.\n",
      "The behavior will change in pandas 3.0. This inplace method will never work because the intermediate object on which we are setting values always behaves as a copy.\n",
      "\n",
      "For example, when doing 'df[col].method(value, inplace=True)', try using 'df.method({col: value}, inplace=True)' or df[col] = df[col].method(value) instead, to perform the operation inplace on the original object.\n",
      "\n",
      "\n",
      "  df['Customer Satisfaction Rating'].fillna(df['Customer Satisfaction Rating'].median(), inplace=True)\n"
     ]
    }
   ],
   "source": [
    "import pandas as pd\n",
    "\n",
    "# Load the dataset\n",
    "file_path = \"customer_support_tickets.csv\"  # Update if your file is in a different location\n",
    "df = pd.read_csv(file_path)\n",
    "\n",
    "# Step 1: Convert relevant columns to datetime\n",
    "df['Date of Purchase'] = pd.to_datetime(df['Date of Purchase'], errors='coerce')\n",
    "df['First Response Time'] = pd.to_datetime(df['First Response Time'], errors='coerce')\n",
    "df['Time to Resolution'] = pd.to_datetime(df['Time to Resolution'], errors='coerce')\n",
    "\n",
    "# Step 2: Clean Ticket Description by removing template placeholders\n",
    "df['Ticket Description'] = df['Ticket Description'].str.replace(r'\\{.*?\\}', '', regex=True).str.strip()\n",
    "\n",
    "# Step 3: Calculate Response Delay and Resolution Time in hours\n",
    "df['Response Delay (hrs)'] = (df['First Response Time'] - df['Date of Purchase']).dt.total_seconds() / 3600\n",
    "df['Resolution Time (hrs)'] = (df['Time to Resolution'] - df['First Response Time']).dt.total_seconds() / 3600\n",
    "\n",
    "# Step 4: Handle missing values\n",
    "# Fill missing numeric values with median\n",
    "df['Response Delay (hrs)'].fillna(df['Response Delay (hrs)'].median(), inplace=True)\n",
    "df['Resolution Time (hrs)'].fillna(df['Resolution Time (hrs)'].median(), inplace=True)\n",
    "\n",
    "# Fill missing text fields\n",
    "df['Resolution'].fillna(\"Unresolved\", inplace=True)\n",
    "\n",
    "# Fill missing ratings with median rating\n",
    "df['Customer Satisfaction Rating'].fillna(df['Customer Satisfaction Rating'].median(), inplace=True)\n",
    "\n",
    "# Step 5: Save the cleaned dataset\n",
    "output_path = \"cleaned_customer_support_tickets.csv\"\n",
    "df.to_csv(output_path, index=False)\n",
    "\n",
    "print(\"Cleaned dataset saved to:\", output_path)\n"
   ]
  },
  {
   "cell_type": "code",
   "execution_count": null,
   "id": "bd3bab65-547f-44aa-890d-422200f80a01",
   "metadata": {},
   "outputs": [],
   "source": []
  }
 ],
 "metadata": {
  "kernelspec": {
   "display_name": "Python 3 (ipykernel)",
   "language": "python",
   "name": "python3"
  },
  "language_info": {
   "codemirror_mode": {
    "name": "ipython",
    "version": 3
   },
   "file_extension": ".py",
   "mimetype": "text/x-python",
   "name": "python",
   "nbconvert_exporter": "python",
   "pygments_lexer": "ipython3",
   "version": "3.12.7"
  }
 },
 "nbformat": 4,
 "nbformat_minor": 5
}
